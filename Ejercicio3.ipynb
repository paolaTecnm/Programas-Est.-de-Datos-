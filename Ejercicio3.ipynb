{
  "nbformat": 4,
  "nbformat_minor": 0,
  "metadata": {
    "colab": {
      "provenance": [],
      "authorship_tag": "ABX9TyPYM/v8QS4TG2m58bbC+Zmg",
      "include_colab_link": true
    },
    "kernelspec": {
      "name": "python3",
      "display_name": "Python 3"
    },
    "language_info": {
      "name": "python"
    }
  },
  "cells": [
    {
      "cell_type": "markdown",
      "metadata": {
        "id": "view-in-github",
        "colab_type": "text"
      },
      "source": [
        "<a href=\"https://colab.research.google.com/github/paolaTecnm/Programas-Est.-de-Datos-/blob/main/Ejercicio3.ipynb\" target=\"_parent\"><img src=\"https://colab.research.google.com/assets/colab-badge.svg\" alt=\"Open In Colab\"/></a>"
      ]
    },
    {
      "cell_type": "code",
      "execution_count": 3,
      "metadata": {
        "colab": {
          "base_uri": "https://localhost:8080/"
        },
        "id": "p-XSOX6ytHEj",
        "outputId": "e5436bcb-7cd6-48a8-8525-388a9c1a62b1"
      },
      "outputs": [
        {
          "output_type": "stream",
          "name": "stdout",
          "text": [
            "Ingresa tu nombre   ANA PAOLA\n",
            "Ingresa tu apellido PATERNO CABELLO\n",
            "Ingresa tu apellido MATERNO VEGA\n",
            "['ANA PAOLA', 'CABELLO', 'VEGA']\n"
          ]
        }
      ],
      "source": [
        "class Arreglos:\n",
        "    def __init__(self):\n",
        "        self.nombre = \"\"\n",
        "        self.apellidoP = \" \"\n",
        "        self.apellidoM = \" \"\n",
        "\n",
        "    def entrada(self):\n",
        "        self.nombre = input(\"Ingresa tu nombre   \")\n",
        "        self.apellidoP = input (\"Ingresa tu apellido PATERNO \")\n",
        "        self.apellidoM = input (\"Ingresa tu apellido MATERNO \")\n",
        "\n",
        "    def proceso(self):\n",
        "          nombreComp = []\n",
        "          nombreComp.append(self.nombre)\n",
        "          nombreComp.append(self.apellidoP)\n",
        "          nombreComp.append(self.apellidoM)\n",
        "          print(nombreComp)\n",
        "obj = Arreglos()\n",
        "obj.entrada()\n",
        "obj.proceso()"
      ]
    }
  ]
}