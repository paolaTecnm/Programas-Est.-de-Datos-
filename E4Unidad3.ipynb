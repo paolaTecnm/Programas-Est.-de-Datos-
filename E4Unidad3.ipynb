{
  "nbformat": 4,
  "nbformat_minor": 0,
  "metadata": {
    "colab": {
      "provenance": [],
      "authorship_tag": "ABX9TyNjircLnZgSkkuS7EGvoZXt",
      "include_colab_link": true
    },
    "kernelspec": {
      "name": "python3",
      "display_name": "Python 3"
    },
    "language_info": {
      "name": "python"
    }
  },
  "cells": [
    {
      "cell_type": "markdown",
      "metadata": {
        "id": "view-in-github",
        "colab_type": "text"
      },
      "source": [
        "<a href=\"https://colab.research.google.com/github/paolaTecnm/Programas-Est.-de-Datos-/blob/UNIDADES/E4Unidad3.ipynb\" target=\"_parent\"><img src=\"https://colab.research.google.com/assets/colab-badge.svg\" alt=\"Open In Colab\"/></a>"
      ]
    },
    {
      "cell_type": "code",
      "execution_count": 1,
      "metadata": {
        "colab": {
          "base_uri": "https://localhost:8080/",
          "height": 130
        },
        "id": "cA9nhbm1pUBO",
        "outputId": "cae585b8-2cf0-4ac8-aa4c-424e8b6b2c15"
      },
      "outputs": [
        {
          "output_type": "error",
          "ename": "SyntaxError",
          "evalue": "ignored",
          "traceback": [
            "\u001b[0;36m  File \u001b[0;32m\"<ipython-input-1-e12490e1f81b>\"\u001b[0;36m, line \u001b[0;32m4\u001b[0m\n\u001b[0;31m    def contador ()\u001b[0m\n\u001b[0m                   ^\u001b[0m\n\u001b[0;31mSyntaxError\u001b[0m\u001b[0;31m:\u001b[0m invalid syntax\n"
          ]
        }
      ],
      "source": [
        "pila=[1,5,7,9,7,2]\n",
        "pila2=[]\n",
        "cont=0\n",
        "def contador ()\n",
        "    global pila\n",
        "    global cont\n",
        "    global pila2\n",
        "    try:\n",
        "      pila2.append(pila.pop(0))\n",
        "      cont=cont +1\n",
        "      contador()\n",
        "    except:\n",
        "      print(pila2)\n",
        "      print(\"Existen: \",cont,\"dentro de la pila\")\n",
        "contador()"
      ]
    }
  ]
}