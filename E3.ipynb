{
  "nbformat": 4,
  "nbformat_minor": 0,
  "metadata": {
    "colab": {
      "provenance": [],
      "authorship_tag": "ABX9TyOG3V0a5zQtQBOcOsUZlvIw",
      "include_colab_link": true
    },
    "kernelspec": {
      "name": "python3",
      "display_name": "Python 3"
    },
    "language_info": {
      "name": "python"
    }
  },
  "cells": [
    {
      "cell_type": "markdown",
      "metadata": {
        "id": "view-in-github",
        "colab_type": "text"
      },
      "source": [
        "<a href=\"https://colab.research.google.com/github/paolaTecnm/Programas-Est.-de-Datos-/blob/UNIDADES/E3.ipynb\" target=\"_parent\"><img src=\"https://colab.research.google.com/assets/colab-badge.svg\" alt=\"Open In Colab\"/></a>"
      ]
    },
    {
      "cell_type": "code",
      "execution_count": null,
      "metadata": {
        "id": "bO3hbFyImizV"
      },
      "outputs": [],
      "source": [
        "from csv import list_dialects\n",
        "from re import x\n",
        "\n",
        "lista= [5,9,7,15,4]\n",
        "x=\"\"\n",
        "y=0\n",
        "def mayor():\n",
        "  global lista\n",
        "  global x\n",
        "  global y\n",
        "  print(\"El número mayor de la lista es: \"),lista.pop())\n",
        "  x=input(\"Desea agregar otro número a la lista S/N\")\n",
        "  if x ==\"S\":\n",
        "    y=int(input(\"Ingresa el valor: \"))\n",
        "    lista.append(y)\n",
        "  else:\n",
        "       print(\"adiós\")\n",
        "  lista.sort()\n",
        "  mayor()\n",
        "mayor()\n"
      ]
    }
  ]
}