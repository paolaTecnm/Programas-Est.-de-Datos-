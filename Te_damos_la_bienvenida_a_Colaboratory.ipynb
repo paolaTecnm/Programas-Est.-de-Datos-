{
  "cells": [
    {
      "cell_type": "markdown",
      "metadata": {
        "id": "view-in-github",
        "colab_type": "text"
      },
      "source": [
        "<a href=\"https://colab.research.google.com/github/paolaTecnm/Programas-Est.-de-Datos-/blob/main/Te_damos_la_bienvenida_a_Colaboratory.ipynb\" target=\"_parent\"><img src=\"https://colab.research.google.com/assets/colab-badge.svg\" alt=\"Open In Colab\"/></a>"
      ]
    },
    {
      "cell_type": "code",
      "source": [
        "factura=['pan','carne',100,1234]\n",
        "print(factura[-2])"
      ],
      "metadata": {
        "id": "k1Q4XXYOuU8E",
        "outputId": "92399046-ee72-446b-aecc-ca8830aa8b17",
        "colab": {
          "base_uri": "https://localhost:8080/"
        }
      },
      "execution_count": 4,
      "outputs": [
        {
          "output_type": "stream",
          "name": "stdout",
          "text": [
            "100\n"
          ]
        }
      ]
    },
    {
      "cell_type": "code",
      "source": [
        "try:\n",
        "  print(factura[-5])\n",
        "except:\n",
        "  print(\"saliste de la lista\")"
      ],
      "metadata": {
        "id": "vIfytJOzxdEJ",
        "outputId": "e0edc7a8-55a0-4dd2-dc2f-8cc4407bd843",
        "colab": {
          "base_uri": "https://localhost:8080/"
        }
      },
      "execution_count": 5,
      "outputs": [
        {
          "output_type": "stream",
          "name": "stdout",
          "text": [
            "saliste de la lista\n"
          ]
        }
      ]
    },
    {
      "cell_type": "code",
      "source": [
        "versiones_plone=[2.5,3.6,4,5]\n",
        "print(versiones_plone)\n",
        "versiones_plone.append(6)\n",
        "print(versiones_plone)\n"
      ],
      "metadata": {
        "id": "KjUoPwuDyH8R",
        "outputId": "a4236d38-0e4e-4aa9-89f8-77becc14296d",
        "colab": {
          "base_uri": "https://localhost:8080/"
        }
      },
      "execution_count": 7,
      "outputs": [
        {
          "output_type": "stream",
          "name": "stdout",
          "text": [
            "[2.5, 3.6, 4, 5]\n",
            "[2.5, 3.6, 4, 5, 6]\n"
          ]
        }
      ]
    },
    {
      "cell_type": "code",
      "source": [
        "versiones_plone=[2.1,2.5,3.6,4,5,6]\n",
        "print(\"6 - >\", versiones_plone.count(6))\n",
        "print(\"5 - >\", versiones_plone.count(5))\n",
        "print(\"2.5 - >\", versiones_plone.count(2.5))"
      ],
      "metadata": {
        "id": "_jlOnwRBz2FZ",
        "outputId": "fbcd87b7-5d55-48c3-8fd1-9dc1c2b29be7",
        "colab": {
          "base_uri": "https://localhost:8080/"
        }
      },
      "execution_count": 10,
      "outputs": [
        {
          "output_type": "stream",
          "name": "stdout",
          "text": [
            "6 - > 1\n",
            "5 - > 1\n",
            "2.5 - > 1\n"
          ]
        }
      ]
    },
    {
      "cell_type": "code",
      "source": [
        "versiones_plone = [2.1,2.5,3.6]\n",
        "print(versiones_plone)\n",
        "versiones_plone.extend([4])\n",
        "print(versiones_plone)\n",
        "versiones_plone.extend(range(5,10))\n",
        "print(versiones_plone)"
      ],
      "metadata": {
        "id": "bkRGF0d816w0",
        "outputId": "d396a827-eb04-4a9e-f660-28bf22e60ac1",
        "colab": {
          "base_uri": "https://localhost:8080/"
        }
      },
      "execution_count": 13,
      "outputs": [
        {
          "output_type": "stream",
          "name": "stdout",
          "text": [
            "[2.1, 2.5, 3.6]\n",
            "[2.1, 2.5, 3.6, 4]\n",
            "[2.1, 2.5, 3.6, 4, 5, 6, 7, 8, 9]\n"
          ]
        }
      ]
    },
    {
      "cell_type": "code",
      "source": [
        "versiones_plone = [2.1, 2.5, 3.6, 4, 5, 6, 4]\n",
        "print(versiones_plone.index(4))"
      ],
      "metadata": {
        "id": "ayVkZEHT350P",
        "outputId": "e914151f-0df4-4929-fc42-550d47418bef",
        "colab": {
          "base_uri": "https://localhost:8080/"
        }
      },
      "execution_count": 14,
      "outputs": [
        {
          "output_type": "stream",
          "name": "stdout",
          "text": [
            "3\n"
          ]
        }
      ]
    },
    {
      "cell_type": "code",
      "source": [
        "versiones_plone = [2.1, 2.5, 3.6, 4, 5, 6, 4]\n",
        "versiones_plone[2]\n",
        "print(versiones_plone.index(4, 2))\n",
        "versiones_plone[3]\n",
        "print(versiones_plone.index(4, 5))\n",
        "versiones_plone[6]"
      ],
      "metadata": {
        "id": "RKELu4Dz4tzv",
        "outputId": "f97360f4-294a-47d4-cb95-30faf72b4441",
        "colab": {
          "base_uri": "https://localhost:8080/"
        }
      },
      "execution_count": 16,
      "outputs": [
        {
          "output_type": "stream",
          "name": "stdout",
          "text": [
            "3\n",
            "6\n"
          ]
        },
        {
          "output_type": "execute_result",
          "data": {
            "text/plain": [
              "4"
            ]
          },
          "metadata": {},
          "execution_count": 16
        }
      ]
    },
    {
      "cell_type": "code",
      "source": [
        "versiones_plone = [2.1, 2.5, 3.6, 4, 5, 6, 4]\n",
        "print(versiones_plone.index(9))\n",
        "  #File \"<stdin>\", line 1, in <module>\n",
        "  #ValueError: 9 is not in list"
      ],
      "metadata": {
        "id": "MMHMuXgn5Ksk",
        "outputId": "a120ef75-4541-441e-812d-c1da4c487047",
        "colab": {
          "base_uri": "https://localhost:8080/",
          "height": 217
        }
      },
      "execution_count": 18,
      "outputs": [
        {
          "output_type": "error",
          "ename": "ValueError",
          "evalue": "ignored",
          "traceback": [
            "\u001b[0;31m---------------------------------------------------------------------------\u001b[0m",
            "\u001b[0;31mValueError\u001b[0m                                Traceback (most recent call last)",
            "\u001b[0;32m<ipython-input-18-d858e84dc662>\u001b[0m in \u001b[0;36m<module>\u001b[0;34m\u001b[0m\n\u001b[1;32m      1\u001b[0m \u001b[0mversiones_plone\u001b[0m \u001b[0;34m=\u001b[0m \u001b[0;34m[\u001b[0m\u001b[0;36m2.1\u001b[0m\u001b[0;34m,\u001b[0m \u001b[0;36m2.5\u001b[0m\u001b[0;34m,\u001b[0m \u001b[0;36m3.6\u001b[0m\u001b[0;34m,\u001b[0m \u001b[0;36m4\u001b[0m\u001b[0;34m,\u001b[0m \u001b[0;36m5\u001b[0m\u001b[0;34m,\u001b[0m \u001b[0;36m6\u001b[0m\u001b[0;34m,\u001b[0m \u001b[0;36m4\u001b[0m\u001b[0;34m]\u001b[0m\u001b[0;34m\u001b[0m\u001b[0;34m\u001b[0m\u001b[0m\n\u001b[0;32m----> 2\u001b[0;31m \u001b[0mprint\u001b[0m\u001b[0;34m(\u001b[0m\u001b[0mversiones_plone\u001b[0m\u001b[0;34m.\u001b[0m\u001b[0mindex\u001b[0m\u001b[0;34m(\u001b[0m\u001b[0;36m9\u001b[0m\u001b[0;34m)\u001b[0m\u001b[0;34m)\u001b[0m\u001b[0;34m\u001b[0m\u001b[0;34m\u001b[0m\u001b[0m\n\u001b[0m\u001b[1;32m      3\u001b[0m   \u001b[0;31m#File \"<stdin>\", line 1, in <module>\u001b[0m\u001b[0;34m\u001b[0m\u001b[0;34m\u001b[0m\u001b[0;34m\u001b[0m\u001b[0m\n\u001b[1;32m      4\u001b[0m   \u001b[0;31m#ValueError: 9 is not in list\u001b[0m\u001b[0;34m\u001b[0m\u001b[0;34m\u001b[0m\u001b[0;34m\u001b[0m\u001b[0m\n",
            "\u001b[0;31mValueError\u001b[0m: 9 is not in list"
          ]
        }
      ]
    },
    {
      "cell_type": "code",
      "source": [
        "versiones_plone = [2.1, 2.5, 3.6, 4, 5, 6]\n",
        "print(versiones_plone)\n",
        "versiones_plone.insert(2, 3.7)\n",
        "print(versiones_plone)"
      ],
      "metadata": {
        "id": "9EQZ8x0c65vR",
        "outputId": "eecafeda-6321-4631-a68e-b9ee24f558d1",
        "colab": {
          "base_uri": "https://localhost:8080/"
        }
      },
      "execution_count": 19,
      "outputs": [
        {
          "output_type": "stream",
          "name": "stdout",
          "text": [
            "[2.1, 2.5, 3.6, 4, 5, 6]\n",
            "[2.1, 2.5, 3.7, 3.6, 4, 5, 6]\n"
          ]
        }
      ]
    },
    {
      "cell_type": "code",
      "source": [
        "versiones_plone = [2.1, 2.5, 3.6, 4, 5, 6]\n",
        "print(versiones_plone.pop())\n",
        "print(versiones_plone)"
      ],
      "metadata": {
        "id": "_iSLYGz_7nOn",
        "outputId": "8a3ccadb-8260-416d-e4aa-3362294962fc",
        "colab": {
          "base_uri": "https://localhost:8080/"
        }
      },
      "execution_count": 20,
      "outputs": [
        {
          "output_type": "stream",
          "name": "stdout",
          "text": [
            "6\n",
            "[2.1, 2.5, 3.6, 4, 5]\n"
          ]
        }
      ]
    },
    {
      "cell_type": "code",
      "source": [
        "versiones_plone = [2.1, 2.5, 3.6, 4, 5, 6]\n",
        "print(versiones_plone)\n",
        "versiones_plone.remove(2.5)\n",
        "print(versiones_plone) "
      ],
      "metadata": {
        "id": "kSV1_mJN8XUO",
        "outputId": "010dc4db-ce0c-4d47-c4d1-218e74505a1a",
        "colab": {
          "base_uri": "https://localhost:8080/"
        }
      },
      "execution_count": 21,
      "outputs": [
        {
          "output_type": "stream",
          "name": "stdout",
          "text": [
            "[2.1, 2.5, 3.6, 4, 5, 6]\n",
            "[2.1, 3.6, 4, 5, 6]\n"
          ]
        }
      ]
    },
    {
      "cell_type": "code",
      "source": [
        "versiones_plone = [2.1, 2.5, 3.6, 4, 5, 6]\n",
        "print(versiones_plone)\n",
        "versiones_plone.reverse()\n",
        "print(versiones_plone)"
      ],
      "metadata": {
        "id": "bqMec8XJ8tQx",
        "outputId": "303708fd-bd2c-4933-e195-aa71d09f2992",
        "colab": {
          "base_uri": "https://localhost:8080/"
        }
      },
      "execution_count": 23,
      "outputs": [
        {
          "output_type": "stream",
          "name": "stdout",
          "text": [
            "[2.1, 2.5, 3.6, 4, 5, 6]\n",
            "[6, 5, 4, 3.6, 2.5, 2.1]\n"
          ]
        }
      ]
    },
    {
      "cell_type": "code",
      "source": [
        "versiones_plone = [\"en\", \"el,\"]\n",
        "print(versiones_plone)\n",
        "versiones_plone.sort()\n",
        "print(versiones_plone)"
      ],
      "metadata": {
        "id": "l2wYp5PI9Lcq",
        "outputId": "70f12cdd-08f1-4e68-e0e5-15493e35b81d",
        "colab": {
          "base_uri": "https://localhost:8080/"
        }
      },
      "execution_count": 27,
      "outputs": [
        {
          "output_type": "stream",
          "name": "stdout",
          "text": [
            "['en', 'el,']\n",
            "['el,', 'en']\n"
          ]
        }
      ]
    }
  ],
  "metadata": {
    "colab": {
      "collapsed_sections": [],
      "name": "Te damos la bienvenida a Colaboratory",
      "provenance": [],
      "include_colab_link": true
    },
    "kernelspec": {
      "display_name": "Python 3",
      "name": "python3"
    }
  },
  "nbformat": 4,
  "nbformat_minor": 0
}