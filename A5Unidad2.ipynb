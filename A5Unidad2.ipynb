{
  "nbformat": 4,
  "nbformat_minor": 0,
  "metadata": {
    "colab": {
      "provenance": [],
      "authorship_tag": "ABX9TyODDxPPw3zrY+Lm3gqPnjAj",
      "include_colab_link": true
    },
    "kernelspec": {
      "name": "python3",
      "display_name": "Python 3"
    },
    "language_info": {
      "name": "python"
    }
  },
  "cells": [
    {
      "cell_type": "markdown",
      "metadata": {
        "id": "view-in-github",
        "colab_type": "text"
      },
      "source": [
        "<a href=\"https://colab.research.google.com/github/paolaTecnm/Programas-Est.-de-Datos-/blob/UNIDADES/A5Unidad2.ipynb\" target=\"_parent\"><img src=\"https://colab.research.google.com/assets/colab-badge.svg\" alt=\"Open In Colab\"/></a>"
      ]
    },
    {
      "cell_type": "code",
      "execution_count": 4,
      "metadata": {
        "colab": {
          "base_uri": "https://localhost:8080/"
        },
        "id": "gwBkjIYhYPyV",
        "outputId": "3186ebbf-323b-4077-b32d-e75f661a7be7"
      },
      "outputs": [
        {
          "output_type": "stream",
          "name": "stdout",
          "text": [
            "['Ya', 'casi', 'es', 'año', 'nuevo']\n",
            "['Ya', 'casi', 'es', 'navidad']\n",
            "las palabras iguales son: Ya\n",
            "las palabras iguales son: casi\n",
            "las palabras iguales son: es\n"
          ]
        }
      ],
      "source": [
        "texto= \"Ya casi es año nuevo\"\n",
        "X=texto.split()\n",
        "print(X)\n",
        "texto2= \"Ya casi es navidad\"\n",
        "X2=texto2.split()\n",
        "print(X2)\n",
        "if texto == texto2:\n",
        "  print(\"las dos frases son iguales \")\n",
        "if X[0]==X2[0] or X[0]==X2[1] or  X[0]==X2[2]:\n",
        "  print(\"las palabras iguales son:\",X[0])\n",
        "if X[1]==X2[0] or X[1]==X2[1] or X[1]==X2[2]:\n",
        "  print(\"las palabras iguales son:\",X[1])\n",
        "if  X[2]==X2[0] or X[2]==X2[1] or X[2]==X2[2]:\n",
        "  print(\"las palabras iguales son:\",X[2])\n",
        "if X[3]==X2[0] or X[3]==X2[1] or X[3]==X2[2]:\n",
        "  print(\"las palabras iguales son:\",X[3])\n",
        "if X[4]==X2[0] or X[4]==X2[1] or X[4]==X2[2]:\n",
        "  print(\"las palabras iguales son:\",X[4])"
      ]
    }
  ]
}