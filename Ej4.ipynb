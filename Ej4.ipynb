{
  "nbformat": 4,
  "nbformat_minor": 0,
  "metadata": {
    "colab": {
      "provenance": [],
      "authorship_tag": "ABX9TyNou/lFsuShjX7ka8spxOYQ",
      "include_colab_link": true
    },
    "kernelspec": {
      "name": "python3",
      "display_name": "Python 3"
    },
    "language_info": {
      "name": "python"
    }
  },
  "cells": [
    {
      "cell_type": "markdown",
      "metadata": {
        "id": "view-in-github",
        "colab_type": "text"
      },
      "source": [
        "<a href=\"https://colab.research.google.com/github/paolaTecnm/Programas-Est.-de-Datos-/blob/main/Ej4.ipynb\" target=\"_parent\"><img src=\"https://colab.research.google.com/assets/colab-badge.svg\" alt=\"Open In Colab\"/></a>"
      ]
    },
    {
      "cell_type": "code",
      "execution_count": 4,
      "metadata": {
        "colab": {
          "base_uri": "https://localhost:8080/"
        },
        "id": "QDqXCGaCtj39",
        "outputId": "9d11a798-bfc0-448b-e0e7-551c96799cdf"
      },
      "outputs": [
        {
          "output_type": "stream",
          "name": "stdout",
          "text": [
            "[1, 3, 8, 9, 120, 8, 126, 120, 89]\n",
            "120 =  2\n",
            "1 =  1\n",
            "[1, 3, 8, 9, 120, 8, 126, 120, 89, 6]\n",
            "[1, 3, 8, 9, 120, 8, 126, 120, 89, 6, 8, 9, 10, 11]\n",
            "4\n",
            "[1, 3, 'Paola', 8, 9, 120, 8, 126, 120, 89, 6, 8, 9, 10, 11]\n",
            "[1, 3, 8, 9, 120, 8, 126, 120, 89, 6, 8, 9, 10, 11]\n",
            "[1, 3, 8, 9, 8, 126, 120, 89, 6, 8, 9, 10, 11]\n",
            "[11, 10, 9, 8, 6, 89, 120, 126, 8, 9, 8, 3, 1]\n",
            "['Daniel', 'Paola', 'Sofia']\n"
          ]
        }
      ],
      "source": [
        "numeros=[1, 3,8, 9, 120, 8, 126, 120]\n",
        "numeros.append(89) ##Manda un dato al final del arreglo\n",
        "print(numeros)\n",
        "\n",
        "\n",
        "print(\"120 = \",numeros.count(120)) ## Cuenta cuantas veces se repite algun dato dentro del arreglo \n",
        "print(\"1 = \", numeros.count(1))\n",
        "\n",
        "numeros.extend([6])\n",
        "print(numeros)\n",
        "\n",
        "numeros.extend(range(8,12)) ##Me extiende los numeros que estan en un rango del 8 al 12, sin contar el ultimo\n",
        "print(numeros)\n",
        "\n",
        "print(numeros.index(120)) ##Index sirve para saber el indice en que se encuentra el numero 120, el primero\n",
        "\n",
        "numeros.insert(2,\"Paola\") ##Inserta un elemento en una lista, primero se pone la posicion y despues el elemento\n",
        "print(numeros)\n",
        "\n",
        "numeros.pop(2) ##Elimina algun elemento de la lista (Va la posicion)\n",
        "print(numeros)\n",
        "\n",
        "numeros.remove(120) ##Elimina algun elemento, si hay datos repetidos solo elimina el primero\n",
        "print (numeros)\n",
        "\n",
        "numeros.reverse() ##Invierte la lista \n",
        "print(numeros)\n",
        "\n",
        "nombre =[\"Paola\", \"Daniel\", \"Sofia\"] ##Ordena los elementos del arreglo\n",
        "nombre.sort()\n",
        "print(nombre)"
      ]
    }
  ]
}