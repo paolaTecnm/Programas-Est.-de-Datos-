{
  "nbformat": 4,
  "nbformat_minor": 0,
  "metadata": {
    "colab": {
      "provenance": [],
      "authorship_tag": "ABX9TyPJLYXBJEo9x/72lNnegKI3",
      "include_colab_link": true
    },
    "kernelspec": {
      "name": "python3",
      "display_name": "Python 3"
    },
    "language_info": {
      "name": "python"
    }
  },
  "cells": [
    {
      "cell_type": "markdown",
      "metadata": {
        "id": "view-in-github",
        "colab_type": "text"
      },
      "source": [
        "<a href=\"https://colab.research.google.com/github/paolaTecnm/Programas-Est.-de-Datos-/blob/main/Ejercicio1.ipynb\" target=\"_parent\"><img src=\"https://colab.research.google.com/assets/colab-badge.svg\" alt=\"Open In Colab\"/></a>"
      ]
    },
    {
      "cell_type": "code",
      "source": [
        "texto1 = \"Bienvenidos a la universidad alumnos \"\n",
        "x = texto1.split()\n",
        "print (x)\n",
        "\n",
        "texto2 = \"Bienvenidos todos los alumnos\"\n",
        "m = texto2.split()\n",
        "print (m)\n",
        "\n",
        "if texto1 == texto2:\n",
        "  print(\"LA FRASE ES LA MISMA\")\n",
        "else: \n",
        "  print(\"LA FRASE NO ES LA MISMA\")\n",
        "\n",
        "if \"Bienvenidos\" in m and \"Bienvenidos\" in x:\n",
        "  print(\"La palabra  BIENVENIDOS si aparece en la primera oracion\")\n",
        "else:\n",
        "  print(\"La palabra BIENVENIDOS no aparece en la primera oracion\")\n",
        "if \"todos\" in m and \"todos\" in x:\n",
        "  print(\"La palabra TODOS aparece en las dos oraciones\")\n",
        "else:\n",
        "  print(\"La palabra TODOS no aparece en la primera oracion\")\n",
        "if \"los\" in m and \"los\" in x:\n",
        "  print(\"La palabra LOS aparece en las dos oraciones\")\n",
        "else:\n",
        "  print(\"La palabra LOS no aparece en la primera oracion\")\n",
        "if \"alumnos\" in m and \"alumnos\" in x:\n",
        "  print(\"La palabra ALUMNOS si aparece en las dos oraciones\")\n",
        "else:\n",
        "  print(\"La palabra ALUMNOS no aparece en la primera oracion\")"
      ],
      "metadata": {
        "colab": {
          "base_uri": "https://localhost:8080/"
        },
        "id": "4BfPd07QsxJ1",
        "outputId": "487a3b55-5b68-4144-98e3-71c4508ae054"
      },
      "execution_count": 1,
      "outputs": [
        {
          "output_type": "stream",
          "name": "stdout",
          "text": [
            "['Bienvenidos', 'a', 'la', 'universidad', 'alumnos']\n",
            "['Bienvenidos', 'todos', 'los', 'alumnos']\n",
            "LA FRASE NO ES LA MISMA\n",
            "La palabra  BIENVENIDOS si aparece en la primera oracion\n",
            "La palabra TODOS no aparece en la primera oracion\n",
            "La palabra LOS no aparece en la primera oracion\n",
            "La palabra ALUMNOS si aparece en las dos oraciones\n"
          ]
        }
      ]
    }
  ]
}