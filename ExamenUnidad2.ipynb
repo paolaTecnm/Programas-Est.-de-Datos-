{
  "nbformat": 4,
  "nbformat_minor": 0,
  "metadata": {
    "colab": {
      "provenance": [],
      "authorship_tag": "ABX9TyNM5FAhJSymuVSqXOCsDLQV",
      "include_colab_link": true
    },
    "kernelspec": {
      "name": "python3",
      "display_name": "Python 3"
    },
    "language_info": {
      "name": "python"
    }
  },
  "cells": [
    {
      "cell_type": "markdown",
      "metadata": {
        "id": "view-in-github",
        "colab_type": "text"
      },
      "source": [
        "<a href=\"https://colab.research.google.com/github/paolaTecnm/Programas-Est.-de-Datos-/blob/UNIDAD-1/ExamenUnidad2.ipynb\" target=\"_parent\"><img src=\"https://colab.research.google.com/assets/colab-badge.svg\" alt=\"Open In Colab\"/></a>"
      ]
    },
    {
      "cell_type": "code",
      "execution_count": 13,
      "metadata": {
        "colab": {
          "base_uri": "https://localhost:8080/"
        },
        "id": "wWYuo9QkWjvN",
        "outputId": "1a0f0db9-8164-4d81-ff61-e3738a7b852c"
      },
      "outputs": [
        {
          "output_type": "stream",
          "name": "stdout",
          "text": [
            "Opcion 1, Entregar lunch \n",
            "Opcion 2, Capturar comida \n",
            "Opcion 3, Capturar bebida \n",
            "Opcion 4, Capturar postre \n",
            "Opción 5, Salir\n",
            "Escoja una opción : 1\n",
            "Escribe tu nombre: Paola\n",
            "No hay comida \n",
            "No hay bebida\n",
            "No hay postre\n",
            "[['Paola']]\n",
            "Escoja una opción : 3\n",
            "Introduce la bebida disponible: agua\n",
            "['agua']\n",
            "Escoja una opción : 1\n",
            "Escribe tu nombre: Juan\n",
            "No hay comida \n",
            "No hay postre\n",
            "[['Paola'], ['agua', 'Juan']]\n",
            "Escoja una opción : 2\n",
            "Introduce la comida disponible: torta\n",
            "['torta']\n",
            "Escoja una opción : 1\n",
            "Escribe tu nombre: Laura\n",
            "No hay bebida\n",
            "No hay postre\n",
            "[['Paola'], ['agua', 'Juan'], ['torta', 'Laura']]\n",
            "Escoja una opción : 5\n",
            "Hasta Luego!\n"
          ]
        }
      ],
      "source": [
        "op=0\n",
        "print(\"Opcion 1, Entregar lunch \")\n",
        "print(\"Opcion 2, Capturar comida \")\n",
        "print(\"Opcion 3, Capturar bebida \")\n",
        "print(\"Opcion 4, Capturar postre \")\n",
        "print(\"Opción 5, Salir\")\n",
        "comida=[]\n",
        "bebida=[]\n",
        "postre=[]\n",
        "comenzales=[]\n",
        "entregas=[]\n",
        "x=[]\n",
        "def lista(op):\n",
        "  while op != 5:\n",
        "    op=int(input(\"Escoja una opción : \"))\n",
        "    x=[]\n",
        "    if op ==1:\n",
        "      entregarLun(x,entregas)\n",
        "    elif op ==2:\n",
        "      capturarCom(comida)\n",
        "    elif op== 3:\n",
        "      capturarBeb(bebida)\n",
        "    elif op ==4:\n",
        "      capturarPos(postre)\n",
        "    else:\n",
        "      print(\"Hasta Luego!\")\n",
        "def entregarLun(x,entregas):\n",
        "  comenzales.append(input(\"Escribe tu nombre: \"))\n",
        "  try:\n",
        "     x.append(comida.pop(0))\n",
        "  except:\n",
        "      print(\"No hay comida \")\n",
        "  try:\n",
        "     x.append(bebida.pop())\n",
        "  except:\n",
        "      print(\"No hay bebida\")\n",
        "  try:\n",
        "     x.append(postre.pop())\n",
        "  except:\n",
        "      print(\"No hay postre\")\n",
        "      x.append(comenzales[-1])\n",
        "      entregas.append(x)\n",
        "      print(entregas)\n",
        "def capturarCom(comida):\n",
        "    if len(comida) <= 4:\n",
        "        comida.append(input(\"Introduce la comida disponible: \"))\n",
        "        print (comida)\n",
        "    else:\n",
        "        print(\"Ya no se puede introducir comida\")\n",
        "def capturarBeb(bebida):\n",
        "    if len(bebida) <= 4:\n",
        "        bebida.append(input(\"Introduce la bebida disponible: \"))\n",
        "        print(bebida)\n",
        "    else:\n",
        "        print(\"Ya no se pueden introducir bebidas\")\n",
        "def capturarPos(postre):\n",
        "    if len(postre) <= 4:\n",
        "        postre.append(input(\"Introduce los postres disponibles \"))\n",
        "        print(postre)\n",
        "    else:\n",
        "      print(\"Ya no se pueden introducir postres\")\n",
        "lista(op)\n"
      ]
    }
  ]
}