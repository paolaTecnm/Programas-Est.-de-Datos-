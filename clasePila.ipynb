{
  "nbformat": 4,
  "nbformat_minor": 0,
  "metadata": {
    "colab": {
      "provenance": [],
      "authorship_tag": "ABX9TyMhAFa3BYeW0D7XOT5jsOfa",
      "include_colab_link": true
    },
    "kernelspec": {
      "name": "python3",
      "display_name": "Python 3"
    },
    "language_info": {
      "name": "python"
    }
  },
  "cells": [
    {
      "cell_type": "markdown",
      "metadata": {
        "id": "view-in-github",
        "colab_type": "text"
      },
      "source": [
        "<a href=\"https://colab.research.google.com/github/paolaTecnm/Programas-Est.-de-Datos-/blob/main/clasePila.ipynb\" target=\"_parent\"><img src=\"https://colab.research.google.com/assets/colab-badge.svg\" alt=\"Open In Colab\"/></a>"
      ]
    },
    {
      "cell_type": "markdown",
      "source": [
        "Menú de opciones (Pilas)"
      ],
      "metadata": {
        "id": "6dpJB3N91et8"
      }
    },
    {
      "cell_type": "code",
      "source": [
        "class Pila:\n",
        "  def __init__(self):\n",
        "    \"\"\" Crea una pila vacía. \"\"\"\n",
        "    # La pila vacía se representa con una lista vacía\n",
        "    self.items=[]\n",
        "  def apilar(self, x):\n",
        "    \"\"\" Agrega el elemento x a la pila. \"\"\"\n",
        "    # Apilar es agregar al final de la lista\n",
        "    self.items.append(x)\n",
        "  def desapilar(self):\n",
        "    \"\"\" Devuelve el elemento tope y lo elimina de la pila. Si la pila está vacía levanta una excepción. \"\"\"\n",
        "    try:\n",
        "      return self.items.pop()\n",
        "    except IndexError:\n",
        "      raise ValueError(\"La pila está vacía\")\n",
        "  def es_vacia(self):\n",
        "    \"\"\" Devuelve True si la lista está vacía, False si no. \"\"\"\n",
        "    return self.items == []\n",
        " \n"
      ],
      "metadata": {
        "id": "5VMf9hpC1juY"
      },
      "execution_count": 8,
      "outputs": []
    }
  ]
}