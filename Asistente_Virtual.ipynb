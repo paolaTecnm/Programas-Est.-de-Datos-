{
  "nbformat": 4,
  "nbformat_minor": 0,
  "metadata": {
    "colab": {
      "provenance": [],
      "authorship_tag": "ABX9TyMa6lq+FxbU51E72gvTzqPL",
      "include_colab_link": true
    },
    "kernelspec": {
      "name": "python3",
      "display_name": "Python 3"
    },
    "language_info": {
      "name": "python"
    }
  },
  "cells": [
    {
      "cell_type": "markdown",
      "metadata": {
        "id": "view-in-github",
        "colab_type": "text"
      },
      "source": [
        "<a href=\"https://colab.research.google.com/github/paolaTecnm/Programas-Est.-de-Datos-/blob/UNIDADES/Asistente_Virtual.ipynb\" target=\"_parent\"><img src=\"https://colab.research.google.com/assets/colab-badge.svg\" alt=\"Open In Colab\"/></a>"
      ]
    },
    {
      "cell_type": "code",
      "execution_count": null,
      "metadata": {
        "id": "Ffu0WgLuARTO"
      },
      "outputs": [],
      "source": [
        "import pyttsx3 as voz\n",
        "import speech_recognition as sr\n",
        "import subprocess as sub\n",
        "from datetime import datetime\n",
        "\n",
        "#voz del asistente \n",
        "voice=voz.init()\n",
        "voices=voice.getProperty('voices')\n",
        "voice.setProperty('voice',voices[2].id)\n",
        "voice.setProperty('rate',140)\n",
        "\n",
        "\n",
        "fecha = datetime.now()\n",
        "\n",
        "meses = ['enero','febrero','marzo','abril','mayo','junio','julio','agosto','septimbre','octubre','noviembre','diciembre']\n",
        "\n",
        "acciones = [\n",
        "    ['hora','Son las' + datetime.now().strftime('%H:%M')],\n",
        "    ['chiste','¿Qué le dijo un protón a un electrón?, no seas tan negativo'],\n",
        "    ['salir','Sesión finalizada, nos vemos'],\n",
        "    ['fecha','Hoy es '+ str(fecha.day) + ' de ' + meses[(fecha.month)-1] + ' del ' + str(fecha.year)],\n",
        "    ['google','google.com'],\n",
        "    ['youtube','youtube.com'],\n",
        "    ['spotify','spotify.com']\n",
        "]\n",
        "\n",
        "def say(text):\n",
        "    voice.say(text)\n",
        "    voice.runAndWait()\n",
        "    \n",
        "def buscar(comando):\n",
        "    for i in comando:\n",
        "        for j in acciones:\n",
        "            if i == j[0]:\n",
        "                return j[1]\n",
        "    return \"Esa acción no la tengo\"\n",
        "                \n",
        "while True:\n",
        "    recognizer=sr.Recognizer()\n",
        "    with sr.Microphone() as source:\n",
        "        print('Escuchando...')\n",
        "        audio=recognizer.listen(source, phrase_time_limit=3)\n",
        "    \n",
        "    try:\n",
        "        comando=recognizer.recognize_google(audio, language='es-MX')\n",
        "        print(f'Creo que dijiste \"{comando}\"')\n",
        "        comando=comando.lower()\n",
        "        comando=comando.split(' ')\n",
        "\n",
        "        if 'ordenador' in comando:\n",
        "            palabra = buscar(comando)\n",
        "            print('***', palabra)\n",
        "            say(palabra)\n",
        "\n",
        "            if 'abre' in comando or 'abrir' in comando:\n",
        "                sub.call(f'start msedge.exe {palabra}', shell=True)\n",
        "                    \n",
        "            if 'salir' in comando:\n",
        "                break\n",
        "\n",
        "    except:\n",
        "        print(\"Ocurrio un error\")"
      ]
    }
  ]
}