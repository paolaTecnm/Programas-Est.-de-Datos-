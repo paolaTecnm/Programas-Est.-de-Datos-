{
  "nbformat": 4,
  "nbformat_minor": 0,
  "metadata": {
    "colab": {
      "provenance": [],
      "authorship_tag": "ABX9TyPiC1w9hklBxNxjXTYWBZGQ",
      "include_colab_link": true
    },
    "kernelspec": {
      "name": "python3",
      "display_name": "Python 3"
    },
    "language_info": {
      "name": "python"
    }
  },
  "cells": [
    {
      "cell_type": "markdown",
      "metadata": {
        "id": "view-in-github",
        "colab_type": "text"
      },
      "source": [
        "<a href=\"https://colab.research.google.com/github/paolaTecnm/Programas-Est.-de-Datos-/blob/UNIDADES/Asistente_Virtual.ipynb\" target=\"_parent\"><img src=\"https://colab.research.google.com/assets/colab-badge.svg\" alt=\"Open In Colab\"/></a>"
      ]
    },
    {
      "cell_type": "code",
      "execution_count": null,
      "metadata": {
        "id": "Ffu0WgLuARTO"
      },
      "outputs": [],
      "source": [
        "import pyttsx3 as voz\n",
        "import speech_recognition as sr\n",
        "import subprocess as sub\n",
        "from datetime import datetime\n",
        "\n",
        "#voz del asistente \n",
        "voice=voz.init()\n",
        "voices=voice.getProperty('voices')\n",
        "voice.setProperty('voice',voices[2].id)\n",
        "voice.setProperty('rate',140)\n",
        "\n",
        "def say(text):\n",
        "    voice.say(text)\n",
        "    voice.runAndWait()\n",
        "\n",
        "while True:\n",
        "    recognizer=sr.Recognizer()\n",
        "#Activar microfono\n",
        "    with sr.Microphone() as source:\n",
        "        print('Escuchando...')\n",
        "        audio=recognizer.listen(source, phrase_time_limit=3)\n",
        "    \n",
        "    try:\n",
        "        comando=recognizer.recognize_google(audio, language='es-MX')\n",
        "        print(f'Creo que dijiste \"{comando}\"')\n",
        "        comando=comando.lower()\n",
        "        comando=comando.split(' ')\n",
        "\n",
        "        if 'ángeles' in comando:\n",
        "\n",
        "            if 'abre' in comando or 'abrir' in comando:\n",
        "\n",
        "                sites={\n",
        "                    'google':'google.com',\n",
        "                    'youtube':'youtube.com',\n",
        "                    'spotify':'spotify.com'\n",
        "                }\n",
        "\n",
        "                for i in list(sites.keys()):\n",
        "                    if i in comando:\n",
        "                        sub.call(f'start msedge.exe {sites[i]}', shell=True)\n",
        "                        say(f'Abriendo {i}')\n",
        "            \n",
        "            elif 'hora' in comando:\n",
        "                time=datetime.now().strftime('%H:%M')\n",
        "                say(f'Son las {time}')\n",
        "\n",
        "            elif 'chiste' in comando:\n",
        "                say('¿Qué le dijo un protón a un electrón?, no seas tan negativo')\n",
        "                \n",
        "            elif 'termina' in comando or 'salir' in comando:\n",
        "                say('Sesión finalizada')\n",
        "                break\n",
        "            \n",
        "            else:\n",
        "                say('okei')\n",
        "    \n",
        "\n",
        "    except:\n",
        "        say('No te entendi, vuelve a intentarlo')"
      ]
    }
  ]
}