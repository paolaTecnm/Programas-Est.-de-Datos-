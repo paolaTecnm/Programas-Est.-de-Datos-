{
  "nbformat": 4,
  "nbformat_minor": 0,
  "metadata": {
    "colab": {
      "provenance": [],
      "authorship_tag": "ABX9TyOACxBADJM/S+NrA4deMjn6",
      "include_colab_link": true
    },
    "kernelspec": {
      "name": "python3",
      "display_name": "Python 3"
    },
    "language_info": {
      "name": "python"
    }
  },
  "cells": [
    {
      "cell_type": "markdown",
      "metadata": {
        "id": "view-in-github",
        "colab_type": "text"
      },
      "source": [
        "<a href=\"https://colab.research.google.com/github/paolaTecnm/Programas-Est.-de-Datos-/blob/UNIDADES/E2.ipynb\" target=\"_parent\"><img src=\"https://colab.research.google.com/assets/colab-badge.svg\" alt=\"Open In Colab\"/></a>"
      ]
    },
    {
      "cell_type": "code",
      "execution_count": 1,
      "metadata": {
        "colab": {
          "base_uri": "https://localhost:8080/"
        },
        "id": "V0LCBsD4h5pY",
        "outputId": "30550631-d014-483d-a927-7af6a31d3d22"
      },
      "outputs": [
        {
          "output_type": "stream",
          "name": "stdout",
          "text": [
            "[1, 2, 3, 4, 5]\n",
            "[1, 2, 3, 4]\n",
            "[1, 2, 3]\n",
            "[1, 2]\n",
            "[1]\n",
            "La lista tiene 5 elementos\n"
          ]
        }
      ],
      "source": [
        "def contarElementos(lista,num = 0):\n",
        "\tprint(lista)\n",
        "\t#le quito un elemento a la lista\n",
        "\tlista.pop()\n",
        "\t#si la longitud de la lista es 0 le sumo el ultimo que falto\n",
        "\tif len(lista)==0:\n",
        "\t\tnum += 1\n",
        "\t\t#retorno las veces que hice pop\n",
        "\t\treturn num\n",
        "\telse:\n",
        "\t\t#si la lista tiene mas elementos\n",
        "\t\t#incremento el contador y retorno la misma funcion, pero ahora\n",
        "\t\t#con el num incrementado y la lista que ya fue modificada con pop\n",
        "\t\tnum += 1\n",
        "\t\treturn contarElementos(lista,num)\n",
        "\t\t\n",
        "lista = [1,2,3,4,5]\n",
        "print(f\"La lista tiene {contarElementos(lista)} elementos\")\n"
      ]
    }
  ]
}