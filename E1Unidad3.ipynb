{
  "nbformat": 4,
  "nbformat_minor": 0,
  "metadata": {
    "colab": {
      "provenance": [],
      "authorship_tag": "ABX9TyOGGBu4pwRBhLlyZkdn9IpX",
      "include_colab_link": true
    },
    "kernelspec": {
      "name": "python3",
      "display_name": "Python 3"
    },
    "language_info": {
      "name": "python"
    }
  },
  "cells": [
    {
      "cell_type": "markdown",
      "metadata": {
        "id": "view-in-github",
        "colab_type": "text"
      },
      "source": [
        "<a href=\"https://colab.research.google.com/github/paolaTecnm/Programas-Est.-de-Datos-/blob/UNIDADES/E1Unidad3.ipynb\" target=\"_parent\"><img src=\"https://colab.research.google.com/assets/colab-badge.svg\" alt=\"Open In Colab\"/></a>"
      ]
    },
    {
      "cell_type": "code",
      "source": [
        "\"outputs\": [\n",
        "        {\n",
        "          \"output_type\": \"stream\",\n",
        "          \"name\": \"stdout\",\n",
        "          \"text\": [\n",
        "            \"escribe un numero del 1 al 1000 5\\n\",\n",
        "            \"el numero a encontrar es mayor, vas en el intento  1\\n\",\n",
        "            \"escribe un numero del 1 al 1000 400\\n\",\n",
        "            \"el numero a encontrar es mayor, vas en el intento  2\\n\",\n",
        "            \"escribe un numero del 1 al 1000 800\\n\",\n",
        "            \"el numero a encontrar es menor, vas en el intento  3\\n\",\n",
        "            \"escribe un numero del 1 al 1000 54\\n\",\n",
        "            \"el numero a encontrar es mayor, vas en el intento  4\\n\",\n",
        "            \"escribe un numero del 1 al 1000 421\\n\",\n",
        "            \"has encontrado el numero en 5  intentos\\n\"\n",
        "            \"source\": [\n",
        "        \"cont=0\\n\",\n",
        "        \"def juego ():\\n\",\n",
        "        \"    x=421\\n\",\n",
        "        \"    y=int(input(\\\"escribe un numero del 1 al 1000 \\\"))\\n\",\n",
        "        \"    global cont \\n\",\n",
        "        \"    cont = cont+1\\n\",\n",
        "        \"    if y==x:\\n\",\n",
        "        \"        print(\\\"has encontrado el numero en\\\",cont,\\\" intentos\\\")\\n\",\n",
        "        \"    else:\\n\","
      ],
      "metadata": {
        "id": "h4QvG9tgbtoS"
      },
      "execution_count": null,
      "outputs": []
    }
  ]
}